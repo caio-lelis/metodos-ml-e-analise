{
 "cells": [
  {
   "cell_type": "markdown",
   "metadata": {},
   "source": [
    "# Notebook de estudo sobre o livro Introdução a Data Science"
   ]
  },
  {
   "cell_type": "markdown",
   "metadata": {},
   "source": [
    "## Conceitos básicos de Estatística"
   ]
  },
  {
   "cell_type": "code",
   "execution_count": 3,
   "metadata": {},
   "outputs": [],
   "source": [
    "# !pip install pandas\n",
    "import pandas as pd"
   ]
  },
  {
   "cell_type": "code",
   "execution_count": 5,
   "metadata": {},
   "outputs": [],
   "source": [
    "idade = [24, 48, 32, 65, 38, 56, 74, 19, 29, 22]\n",
    "peso = [70, 80, 90, 60, 75, 85, 95, 55, 65, 72]\n",
    "altura = [ 180 , 175, 160, 170, 165, 185, 190, 155, 172, 168]\n",
    "sexo = ['M', 'M', 'F', 'M', 'F', 'M', 'M', 'F', 'F', 'M']\n",
    "\n",
    "df = pd.DataFrame({\n",
    "    'idade': idade, # Quantitativa contínua\n",
    "    'peso': peso,   # Quantitativa contínua\n",
    "    'altura': altura, # Quantitativa contínua\n",
    "    'sexo': sexo # Qualitativa nominal\n",
    "})"
   ]
  },
  {
   "cell_type": "markdown",
   "metadata": {},
   "source": [
    "Para entender melhor as necessidades do seu problema, é importante que se conheça os Tipos de variáveis presentes no seu dataset.\n",
    "## Tipos de variáveis:\n",
    "\n",
    "### Variáveis Quantitativas:\n",
    "Variáveis quantitativas são as caracerísticas que podem ser medidads em uma escala quantitativa, ou seja, apresentam\n",
    "valores numéricos que fazem sentidos.\n",
    "\n",
    "- **Quantitativas Discretas**: São mensuráveis e podem assumir um número finito ou infinito contável de valores. \n",
    "Geralmente são o resultado de contagens. \n",
    "Exemplo: número de filhos, número de bactérias por litro de leite, número de cigarros fumados por dia \n",
    "\n",
    "- **Quantitativas Contínuas**: São características mensuráveis que assumem valores em uma escala contínua (na reta real), \n",
    "para as quais valores fracionais fazem sentido. Geralmente medidas através de algum instrumento\n",
    "Exemplo: peso(balança), altura(fita métrica), temperatura(termo), tempo(cronômetro) , idade(ano de nascimento)\n",
    "\n",
    "### Variáveis Qualitativas:\n",
    "Não são mensuráveis (contáveis) e não possuem valores numéricos, são características que podem ser classificadas em categorias.\n",
    "\n",
    "- **Qualitativas Nominais**: São categorias que não possuem uma ordem ou hierarquia entre elas.\n",
    "Exemplo: cor dos olhos, tipo de carro, gênero, estado civil, fumante/não fumante\n",
    "\n",
    "- **Qualitativas Ordinais**: São categorias que possuem uma ordem ou hierarquia entre elas, mas não possuem uma escala numérica.\n",
    "Exemplo: grau de escolaridade (fundamental, médio, superior), nível de satisfação (ruim, regular, bom, ótimo)\n"
   ]
  }
 ],
 "metadata": {
  "kernelspec": {
   "display_name": "base",
   "language": "python",
   "name": "python3"
  },
  "language_info": {
   "codemirror_mode": {
    "name": "ipython",
    "version": 3
   },
   "file_extension": ".py",
   "mimetype": "text/x-python",
   "name": "python",
   "nbconvert_exporter": "python",
   "pygments_lexer": "ipython3",
   "version": "3.13.2"
  }
 },
 "nbformat": 4,
 "nbformat_minor": 2
}
